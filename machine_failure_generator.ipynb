{
 "cells": [
  {
   "cell_type": "code",
   "id": "initial_id",
   "metadata": {
    "collapsed": true,
    "ExecuteTime": {
     "end_time": "2024-11-25T20:16:48.262272Z",
     "start_time": "2024-11-25T20:16:47.770880Z"
    }
   },
   "source": [
    "import pandas as pd\n",
    "import numpy as np\n",
    "\n",
    "# Ustawienia dla reprodukowalności\n",
    "np.random.seed(42)\n",
    "\n",
    "# Parametry\n",
    "n_machines = 30  # Liczba maszyn\n",
    "start_date = '2022-01-01'\n",
    "end_date = '2024-10-31'\n",
    "\n",
    "# Generowanie dat (codzienne dane)\n",
    "dates = pd.date_range(start=start_date, end=end_date, freq='D')\n",
    "\n",
    "# Generowanie danych\n",
    "machine_ids = []\n",
    "\n",
    "# Generowanie realistycznych identyfikatorów maszyn\n",
    "models = ['M1000', 'M2000', 'M3000', 'M4000', 'M5000']  # Przykładowe modele\n",
    "locations = ['L01', 'L02', 'L03', 'L04']  # Przykładowe lokalizacje\n",
    "for i in range(n_machines):\n",
    "    model = np.random.choice(models)  # Wybór losowego modelu\n",
    "    location = np.random.choice(locations)  # Wybór losowej lokalizacji\n",
    "    serial_number = np.random.randint(1000, 9999)  # Losowy numer seryjny\n",
    "    machine_id = f'{model}_{location}_{serial_number}'  # Tworzenie identyfikatora maszyny\n",
    "    machine_ids.append(machine_id)\n",
    "\n",
    "# Nowe czujniki\n",
    "data = []\n",
    "\n",
    "for machine_id in machine_ids:\n",
    "    machine_age_start_year = np.random.randint(2010, 2021)  # Wiek maszyny: maszyna zainstalowana między 2012 a 2021 rokiem\n",
    "    machine_age = 2022 - machine_age_start_year  # Obliczanie wieku maszyny na początku 2022 roku\n",
    "\n",
    "    # Obliczamy początkowy czas pracy maszyny\n",
    "    days_in_service = machine_age * 365  # Liczba dni w pracy\n",
    "    initial_working_hours = np.random.uniform(12, 16) * days_in_service  # Średnia liczba godzin pracy maszyny na dzień przez jej wiek\n",
    "\n",
    "    total_working_hours = initial_working_hours  # Początkowy czas pracy maszyny\n",
    "\n",
    "    for date in dates:\n",
    "        # Losowe wartości dla czujników\n",
    "        temperature = np.random.normal(loc=75, scale=5)  # Średnia temperatura 75°C z odchyleniem standardowym 5\n",
    "        vibration = np.random.normal(loc=0.5, scale=0.1)  # Średnia wibracja 0.5 mm/s\n",
    "        pressure = np.random.normal(loc=100, scale=10)  # Średnie ciśnienie 100 Pa\n",
    "        rpm = np.random.normal(loc=1500, scale=200)  # Średnie obroty 1500 rpm\n",
    "        humidity = np.random.normal(loc=50, scale=10)  # Średnia wilgotność 50%\n",
    "        oil_level = np.random.normal(loc=80, scale=10)  # Średni poziom oleju 80%\n",
    "        oil_pressure = np.random.normal(loc=200, scale=15)  # Średnie ciśnienie oleju 200 Pa\n",
    "        ambient_temp = np.random.normal(loc=22, scale=4)  # Temperatura otoczenia (w stopniach Celsjusza)\n",
    "        load = np.random.normal(loc=70, scale=10)  # Obciążenie maszyny (%)\n",
    "\n",
    "        # Codzienny czas pracy maszyny (np. losowo od 12 do 16 godzin dziennie)\n",
    "        daily_working_hours = np.random.uniform(12, 16)\n",
    "        total_working_hours += daily_working_hours  # Narastający czas pracy maszyny\n",
    "\n",
    "        # Aktualizacja wieku maszyny na podstawie daty\n",
    "        machine_age = 2022 - machine_age_start_year + (date.year - 2022)\n",
    "\n",
    "        # Złożona logika generowania awarii\n",
    "        failure_probability = (\n",
    "                (temperature > 80) * 0.2 +\n",
    "                (vibration > 0.58) * 0.18 +\n",
    "                (oil_level < 60) * 0.15 +\n",
    "                (humidity > 55) * 0.1 +\n",
    "                (total_working_hours > 45000) * 0.18 +\n",
    "                (ambient_temp > 24) * 0.05 +\n",
    "                (load > 83) * 0.14\n",
    "        )\n",
    "\n",
    "        # Dodajemy element losowości do procesu\n",
    "        # failure_chance = np.random.random()\n",
    "        # failure = 1 if failure_probability > failure_chance else 0\n",
    "        failure = 1 if failure_probability > 0.4 else 0\n",
    "\n",
    "        data.append([machine_id, date, temperature, vibration, pressure, rpm, humidity, oil_level, oil_pressure, total_working_hours, ambient_temp, load, machine_age, failure])\n",
    "\n",
    "# Tworzenie DataFrame\n",
    "df = pd.DataFrame(data, columns=['Machine_ID', 'Date', 'Temperature', 'Vibration', 'Pressure', 'RPM', 'Humidity', 'Oil_Level', 'Oil_Pressure', 'Working_Hours', 'Ambient_Temperature', 'Load', 'Machine_Age', 'Failure'])\n",
    "\n",
    "# Zapisanie danych do pliku CSV\n",
    "df.to_csv('machine_failure_data_4.csv', index=False)\n",
    "\n",
    "df.head()\n"
   ],
   "outputs": [
    {
     "data": {
      "text/plain": "       Machine_ID       Date  Temperature  Vibration    Pressure          RPM  \\\n0  M4000_L01_6390 2022-01-01    65.621616   0.363322  106.363051  1318.655866   \n1  M4000_L01_6390 2022-01-02    74.440061   0.621217  112.334968  1185.168943   \n2  M4000_L01_6390 2022-01-03    74.247331   0.403444  101.504891  1477.315750   \n3  M4000_L01_6390 2022-01-04    86.436130   0.513575  106.080897  1640.996262   \n4  M4000_L01_6390 2022-01-05    79.813206   0.479031   92.259571  1428.044371   \n\n    Humidity  Oil_Level  Oil_Pressure  Working_Hours  Ambient_Temperature  \\\n0  54.760426  93.036613    203.173805   19263.720546            24.388179   \n1  56.379529  59.555770    216.042213   19276.744820            18.264949   \n2  76.335282  69.749091    188.269283   19289.557065            23.695772   \n3  53.609234  65.330321    213.389442   19302.430826            21.578971   \n4  57.240833  77.442354    212.748818   19316.567184            16.754703   \n\n        Load  Machine_Age  Failure  \n0  61.036648            4        0  \n1  77.842082            4        1  \n2  78.727051            4        0  \n3  60.446536            4        0  \n4  61.296950            4        0  ",
      "text/html": "<div>\n<style scoped>\n    .dataframe tbody tr th:only-of-type {\n        vertical-align: middle;\n    }\n\n    .dataframe tbody tr th {\n        vertical-align: top;\n    }\n\n    .dataframe thead th {\n        text-align: right;\n    }\n</style>\n<table border=\"1\" class=\"dataframe\">\n  <thead>\n    <tr style=\"text-align: right;\">\n      <th></th>\n      <th>Machine_ID</th>\n      <th>Date</th>\n      <th>Temperature</th>\n      <th>Vibration</th>\n      <th>Pressure</th>\n      <th>RPM</th>\n      <th>Humidity</th>\n      <th>Oil_Level</th>\n      <th>Oil_Pressure</th>\n      <th>Working_Hours</th>\n      <th>Ambient_Temperature</th>\n      <th>Load</th>\n      <th>Machine_Age</th>\n      <th>Failure</th>\n    </tr>\n  </thead>\n  <tbody>\n    <tr>\n      <th>0</th>\n      <td>M4000_L01_6390</td>\n      <td>2022-01-01</td>\n      <td>65.621616</td>\n      <td>0.363322</td>\n      <td>106.363051</td>\n      <td>1318.655866</td>\n      <td>54.760426</td>\n      <td>93.036613</td>\n      <td>203.173805</td>\n      <td>19263.720546</td>\n      <td>24.388179</td>\n      <td>61.036648</td>\n      <td>4</td>\n      <td>0</td>\n    </tr>\n    <tr>\n      <th>1</th>\n      <td>M4000_L01_6390</td>\n      <td>2022-01-02</td>\n      <td>74.440061</td>\n      <td>0.621217</td>\n      <td>112.334968</td>\n      <td>1185.168943</td>\n      <td>56.379529</td>\n      <td>59.555770</td>\n      <td>216.042213</td>\n      <td>19276.744820</td>\n      <td>18.264949</td>\n      <td>77.842082</td>\n      <td>4</td>\n      <td>1</td>\n    </tr>\n    <tr>\n      <th>2</th>\n      <td>M4000_L01_6390</td>\n      <td>2022-01-03</td>\n      <td>74.247331</td>\n      <td>0.403444</td>\n      <td>101.504891</td>\n      <td>1477.315750</td>\n      <td>76.335282</td>\n      <td>69.749091</td>\n      <td>188.269283</td>\n      <td>19289.557065</td>\n      <td>23.695772</td>\n      <td>78.727051</td>\n      <td>4</td>\n      <td>0</td>\n    </tr>\n    <tr>\n      <th>3</th>\n      <td>M4000_L01_6390</td>\n      <td>2022-01-04</td>\n      <td>86.436130</td>\n      <td>0.513575</td>\n      <td>106.080897</td>\n      <td>1640.996262</td>\n      <td>53.609234</td>\n      <td>65.330321</td>\n      <td>213.389442</td>\n      <td>19302.430826</td>\n      <td>21.578971</td>\n      <td>60.446536</td>\n      <td>4</td>\n      <td>0</td>\n    </tr>\n    <tr>\n      <th>4</th>\n      <td>M4000_L01_6390</td>\n      <td>2022-01-05</td>\n      <td>79.813206</td>\n      <td>0.479031</td>\n      <td>92.259571</td>\n      <td>1428.044371</td>\n      <td>57.240833</td>\n      <td>77.442354</td>\n      <td>212.748818</td>\n      <td>19316.567184</td>\n      <td>16.754703</td>\n      <td>61.296950</td>\n      <td>4</td>\n      <td>0</td>\n    </tr>\n  </tbody>\n</table>\n</div>"
     },
     "execution_count": 3,
     "metadata": {},
     "output_type": "execute_result"
    }
   ],
   "execution_count": 3
  },
  {
   "metadata": {},
   "cell_type": "code",
   "outputs": [],
   "execution_count": null,
   "source": "",
   "id": "cace312f66418bd2"
  }
 ],
 "metadata": {
  "kernelspec": {
   "display_name": "Python 3",
   "language": "python",
   "name": "python3"
  },
  "language_info": {
   "codemirror_mode": {
    "name": "ipython",
    "version": 2
   },
   "file_extension": ".py",
   "mimetype": "text/x-python",
   "name": "python",
   "nbconvert_exporter": "python",
   "pygments_lexer": "ipython2",
   "version": "2.7.6"
  }
 },
 "nbformat": 4,
 "nbformat_minor": 5
}
