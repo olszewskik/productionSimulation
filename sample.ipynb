{
 "cells": [
  {
   "cell_type": "markdown",
   "source": [
    "### Projektowanie Logiki Symulacji\n",
    "#### Cele Symulacji\n",
    "- Zaplanowanie zleceń produkcyjnych na podstawie zamówień sprzedaży.\n",
    "- Obliczenie obciążenia gniazd roboczych.\n",
    "- Wykrycie wąskich gardeł w produkcji.\n",
    "- Symulacja zmian w ilości zamówień i ich wpływu na obciążenie gniazd.\n",
    "#### Logika Symulacji: Kluczowe Kroki\n",
    "1. Przygotowanie danych wejściowych:\n",
    "- Połączenie danych marszruty z zamówieniami sprzedaży, aby określić operacje wymagane dla każdego zamówienia.\n",
    "- Uwzględnienie dostępności gniazd i awarii.\n",
    "2. Planowanie operacji:\n",
    "- Kolejkowanie operacji w pparciu o marszrutę, ilość zamówioną i dostępne godziny gniazda roboczego.\n",
    "3. Obliczenia obciążenia gniazd:\n",
    "- Sumowanie zajętych godzin pracy (setup + run) dla każdego gniazda w danych dniach.\n",
    "4. Analiza wąskich gardeł:\n",
    "- Identyfikacja gniazd roboczych, które nie mogą obsłużyć operacji w wymaganym czasie.\n",
    "5. Symulacje „Co jeśli”:\n",
    "- Wzrost ilości zamówień sprzedaży (np. o 10%, 20%).\n",
    "- Zmiana czasu przezbrojenia.\n",
    "- Uwzględnienie awarii."
   ],
   "metadata": {
    "collapsed": false
   },
   "id": "721714e4ecd5d5b8"
  },
  {
   "cell_type": "code",
   "outputs": [],
   "source": [],
   "metadata": {
    "collapsed": false
   },
   "id": "c1acd2f4e3808942"
  }
 ],
 "metadata": {
  "kernelspec": {
   "display_name": "Python 3",
   "language": "python",
   "name": "python3"
  },
  "language_info": {
   "codemirror_mode": {
    "name": "ipython",
    "version": 2
   },
   "file_extension": ".py",
   "mimetype": "text/x-python",
   "name": "python",
   "nbconvert_exporter": "python",
   "pygments_lexer": "ipython2",
   "version": "2.7.6"
  }
 },
 "nbformat": 4,
 "nbformat_minor": 5
}
