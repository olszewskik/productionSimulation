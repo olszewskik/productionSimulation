{
 "cells": [
  {
   "metadata": {},
   "cell_type": "markdown",
   "source": "### 1. Przygotowanie danych",
   "id": "dab4197fbbf7eb1"
  },
  {
   "metadata": {},
   "cell_type": "code",
   "source": [
    "import pandas as pd\n",
    "\n",
    "# Ścieżki do plików CSV\n",
    "inventory_path = \"data/inventory.csv\"\n",
    "workcenters_path = \"data/workcenters.csv\"\n",
    "workcenter_availability_path = \"data/workcenter_availability.csv\"\n",
    "routes_path = \"data/routes.csv\"\n",
    "customers_path = \"data/customers.csv\"\n",
    "sales_orders_path = \"data/sales_orders.csv\"\n",
    "bom_path = \"data/bom.csv\"\n",
    "\n",
    "# Import danych\n",
    "inventory = pd.read_csv(inventory_path)\n",
    "workcenters = pd.read_csv(workcenters_path)\n",
    "workcenter_availability = pd.read_csv(workcenter_availability_path)\n",
    "routes = pd.read_csv(routes_path)\n",
    "customers = pd.read_csv(customers_path)\n",
    "sales_orders = pd.read_csv(sales_orders_path)\n",
    "bom = pd.read_csv(bom_path)\n",
    "\n",
    "# Podgląd danych\n",
    "print(\"Inventory data preview:\")\n",
    "print(inventory.head())\n",
    "\n",
    "print(\"\\nWorkcenters data preview:\")\n",
    "print(workcenters.head())\n",
    "\n",
    "print(\"\\nWorkcenter availability data preview:\")\n",
    "print(workcenter_availability.head())\n",
    "\n",
    "print(\"\\nRoute data preview:\")\n",
    "print(routes.head())\n",
    "\n",
    "print(\"\\nCustomers data preview:\")\n",
    "print(customers.head())\n",
    "\n",
    "print(\"\\nSales orders data preview:\")\n",
    "print(sales_orders.head())\n",
    "\n",
    "print(\"\\nBom data preview:\")\n",
    "print(bom.head())\n"
   ],
   "id": "4be3be0826b8c474",
   "outputs": [],
   "execution_count": null
  },
  {
   "metadata": {},
   "cell_type": "code",
   "source": [
    "# Weryfikacja braków danych\n",
    "def check_missing(dataframes):\n",
    "    for name, df in dataframes.items():\n",
    "        print(f\"Missing values in {name}:\")\n",
    "        print(df.isnull().sum())\n",
    "        print()\n",
    "\n",
    "datasets = {\n",
    "    \"inventory\": inventory,\n",
    "    \"workcenters\": workcenters,\n",
    "    \"workcenter_availability\": workcenter_availability,\n",
    "    \"routes\": routes,\n",
    "    \"customers\": customers,\n",
    "    \"sales_orders\": sales_orders,\n",
    "    \"bom\": bom,\n",
    "}\n",
    "\n",
    "check_missing(datasets)\n"
   ],
   "id": "317c48ae468f36a8",
   "outputs": [],
   "execution_count": null
  },
  {
   "metadata": {},
   "cell_type": "code",
   "source": [
    "# Sprawdzenie typów danych\n",
    "def check_data_types(dataframes):\n",
    "    for name, df in dataframes.items():\n",
    "        print(f\"Data types in {name}:\")\n",
    "        print(df.dtypes)\n",
    "        print()\n",
    "\n",
    "check_data_types(datasets)"
   ],
   "id": "4f1e5da76b37470b",
   "outputs": [],
   "execution_count": null
  },
  {
   "metadata": {},
   "cell_type": "code",
   "source": [
    "# Konwersje typów danych\n",
    "workcenter_availability['Date'] = pd.to_datetime(workcenter_availability['Date'])\n",
    "sales_orders['Delivery Date'] = pd.to_datetime(sales_orders['Delivery Date'])"
   ],
   "id": "2e1f7ef6ec0fd47d",
   "outputs": [],
   "execution_count": null
  },
  {
   "metadata": {},
   "cell_type": "markdown",
   "source": "#### Tworzenie drzewa BOM i obliczenia\n",
   "id": "23509c8039be2ed6"
  },
  {
   "metadata": {
    "ExecuteTime": {
     "end_time": "2024-11-22T13:58:43.419996Z",
     "start_time": "2024-11-22T13:58:38.699469Z"
    }
   },
   "cell_type": "code",
   "source": [
    "def build_complete_bom(bom_df, item_id, fg_id, level=0):\n",
    "    \"\"\"\n",
    "    Rekursywnie tworzy pełną strukturę BOM dla danego FG od poziomu 0 do samego dołu.\n",
    "    \"\"\"\n",
    "    tree = []\n",
    "    components = bom_df[bom_df[\"BOM ID\"] == item_id]\n",
    "\n",
    "    for _, row in components.iterrows():\n",
    "        # Dodanie rekordu do drzewa\n",
    "        tree.append({\n",
    "            \"FG Item ID\": fg_id,          # Wyrob gotowy, dla którego tworzymy BOM\n",
    "            \"Parent ID\": item_id,         # Bezpośredni rodzic komponentu\n",
    "            \"Component ID\": row[\"Component ID\"],  # Komponent w BOM\n",
    "            \"Level\": level + 1,           # Poziom w hierarchii\n",
    "            \"Quantity\": row[\"Quantity per Unit\"]   # Ilość wymagana w BOM\n",
    "        })\n",
    "        # Rekurencja dla kolejnych poziomów komponentu\n",
    "        subtree = build_complete_bom(bom_df, row[\"Component ID\"], fg_id, level + 1)\n",
    "        tree.extend(subtree)\n",
    "\n",
    "    return tree\n",
    "\n",
    "def generate_full_bom_structure(inventory_df, bom_df):\n",
    "    \"\"\"\n",
    "    Generuje pełną strukturę BOM dla wszystkich wyrobów gotowych (FG).\n",
    "    \"\"\"\n",
    "    fg_items = inventory_df[inventory_df[\"Item Type\"] == \"FG\"][\"Item ID\"]\n",
    "    bom_structure = []\n",
    "\n",
    "    for fg_item in fg_items:\n",
    "        # Rekurencyjne budowanie drzewa BOM dla każdego FG\n",
    "        subtree = build_complete_bom(bom_df, fg_item, fg_item)\n",
    "        bom_structure.extend(subtree)\n",
    "\n",
    "    return pd.DataFrame(bom_structure)\n",
    "\n",
    "# Generowanie pełnej struktury BOM\n",
    "full_bom_structure_df = generate_full_bom_structure(inventory, bom)\n",
    "\n",
    "# Podgląd danych\n",
    "print(\"Full BOM Structure DataFrame:\")\n",
    "print(full_bom_structure_df.head())\n",
    "\n",
    "# Zapisanie do pliku CSV (opcjonalne)\n",
    "full_bom_structure_df.to_csv(\"prepared_data/full_bom_structure.csv\", index=False)\n"
   ],
   "id": "105be00c321d4fa6",
   "outputs": [
    {
     "name": "stdout",
     "output_type": "stream",
     "text": [
      "Full BOM Structure DataFrame:\n",
      "         FG Item ID          Parent ID       Component ID  Level  Quantity\n",
      "0  INV-STRC-FG-0001   INV-STRC-FG-0001  INV-MODL-SFG-1410      1         1\n",
      "1  INV-STRC-FG-0001  INV-MODL-SFG-1410     INV-RM-RM-0017      2         2\n",
      "2  INV-STRC-FG-0001  INV-MODL-SFG-1410     INV-RM-RM-0063      2         1\n",
      "3  INV-STRC-FG-0001  INV-MODL-SFG-1410     INV-RM-RM-0091      2         2\n",
      "4  INV-STRC-FG-0001  INV-MODL-SFG-1410     INV-RM-RM-0094      2         3\n"
     ]
    }
   ],
   "execution_count": 21
  },
  {
   "metadata": {},
   "cell_type": "code",
   "source": "",
   "id": "bab420cc0b2baccd",
   "outputs": [],
   "execution_count": null
  }
 ],
 "metadata": {
  "kernelspec": {
   "display_name": "Python 3",
   "language": "python",
   "name": "python3"
  },
  "language_info": {
   "codemirror_mode": {
    "name": "ipython",
    "version": 2
   },
   "file_extension": ".py",
   "mimetype": "text/x-python",
   "name": "python",
   "nbconvert_exporter": "python",
   "pygments_lexer": "ipython2",
   "version": "2.7.6"
  }
 },
 "nbformat": 4,
 "nbformat_minor": 5
}
